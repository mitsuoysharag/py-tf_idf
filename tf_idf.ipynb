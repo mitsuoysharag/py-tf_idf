{
  "nbformat": 4,
  "nbformat_minor": 0,
  "metadata": {
    "colab": {
      "name": "TF-IDF-Explain.ipynb",
      "version": "0.3.2",
      "provenance": [],
      "collapsed_sections": []
    },
    "kernelspec": {
      "name": "python3",
      "display_name": "Python 3"
    }
  },
  "cells": [
    {
      "cell_type": "code",
      "metadata": {
        "id": "rltdazRRXjeG",
        "colab_type": "code",
        "colab": {}
      },
      "source": [
        "import numpy as np\n",
        "import matplotlib.pyplot as plt \n",
        "import pandas as pd\n",
        "import re"
      ],
      "execution_count": 0,
      "outputs": []
    },
    {
      "cell_type": "markdown",
      "metadata": {
        "id": "VHDZim5RUjRL",
        "colab_type": "text"
      },
      "source": [
        "# Banco de Preguntas"
      ]
    },
    {
      "cell_type": "code",
      "metadata": {
        "id": "LHLCbC4YUvOO",
        "colab_type": "code",
        "colab": {}
      },
      "source": [
        "preguntas = [\n",
        "    '¿Qué es un lenguaje de programación?',\n",
        "    '¿Qué es una función?',\n",
        "    '¿Cómo hago un bucle?',\n",
        "    '¿Cómo creo una clase?',\n",
        "    '¿Cómo creo una interfaz de usuario?',\n",
        "    '¿Qué es un objeto en programación?',\n",
        "    '¿Cuál es la finalidad del compilador?',\n",
        "    '¿Cómo declaro una variable?',\n",
        "    '¿Cómo envío una tarea?'\n",
        "]\n",
        "\n",
        "def graficar(diccionario):\n",
        "  rango = range(len(diccionario.values()))\n",
        "  plt.figure(figsize=(25, 3))\n",
        "  plt.bar(rango, diccionario.values(), width=0.4)\n",
        "  plt.xticks(rango, diccionario.keys())\n",
        "  plt.ylim([0, 1])\n",
        "  plt.show()"
      ],
      "execution_count": 0,
      "outputs": []
    },
    {
      "cell_type": "markdown",
      "metadata": {
        "id": "VyLJ7GP0UQtk",
        "colab_type": "text"
      },
      "source": [
        "# Tratamiento"
      ]
    },
    {
      "cell_type": "code",
      "metadata": {
        "id": "4LvzfsRlVh1-",
        "colab_type": "code",
        "outputId": "56cbf91f-7156-4230-889c-f857301e0f70",
        "colab": {
          "base_uri": "https://localhost:8080/",
          "height": 612
        }
      },
      "source": [
        "def limpiar(sentencia):\n",
        "  documento = re.sub('(\\?|¿)', '', sentencia.lower())\n",
        "  # documento = ' '.join([palabra for palabra in documento.split() if palabra not in ['qué','cómo','cuál','es','de','un','una','la','del', 'en']])\n",
        "  return documento\n",
        "\n",
        "def vocabulario(documentos):\n",
        "  vocabulario = list(set([palabra for documento in documentos for palabra in documento.split()]))\n",
        "  return vocabulario\n",
        "\n",
        "documentos = [limpiar(sentencia) for sentencia in preguntas]\n",
        "vocabulario = vocabulario(documentos)\n",
        "\n",
        "documentos, vocabulario"
      ],
      "execution_count": 0,
      "outputs": [
        {
          "output_type": "execute_result",
          "data": {
            "text/plain": [
              "(['qué es un lenguaje de programación',\n",
              "  'qué es una función',\n",
              "  'cómo hago un bucle',\n",
              "  'cómo creo una clase',\n",
              "  'cómo creo una interfaz de usuario',\n",
              "  'qué es un objeto en programación',\n",
              "  'cuál es la finalidad del compilador',\n",
              "  'cómo declaro una variable',\n",
              "  'cómo envío una tarea'],\n",
              " ['una',\n",
              "  'del',\n",
              "  'hago',\n",
              "  'declaro',\n",
              "  'tarea',\n",
              "  'usuario',\n",
              "  'creo',\n",
              "  'lenguaje',\n",
              "  'finalidad',\n",
              "  'qué',\n",
              "  'interfaz',\n",
              "  'cuál',\n",
              "  'función',\n",
              "  'un',\n",
              "  'de',\n",
              "  'es',\n",
              "  'clase',\n",
              "  'compilador',\n",
              "  'programación',\n",
              "  'la',\n",
              "  'envío',\n",
              "  'cómo',\n",
              "  'bucle',\n",
              "  'variable',\n",
              "  'en',\n",
              "  'objeto'])"
            ]
          },
          "metadata": {
            "tags": []
          },
          "execution_count": 25
        }
      ]
    },
    {
      "cell_type": "code",
      "metadata": {
        "id": "u9KhutkkedFT",
        "colab_type": "code",
        "outputId": "441c84a6-d3d9-400a-f82c-b79c080e04cf",
        "colab": {
          "base_uri": "https://localhost:8080/",
          "height": 459
        }
      },
      "source": [
        "def documento_a_vector(documento, vocabulario):\n",
        "  vector = {palabra:0 for palabra in vocabulario}\n",
        "  for palabra in documento.split():\n",
        "    if palabra in vocabulario:\n",
        "      vector[palabra] += 1\n",
        "  return vector\n",
        "\n",
        "documento_a_vector('qué es una variable', vocabulario)"
      ],
      "execution_count": 0,
      "outputs": [
        {
          "output_type": "execute_result",
          "data": {
            "text/plain": [
              "{'bucle': 0,\n",
              " 'clase': 0,\n",
              " 'compilador': 0,\n",
              " 'creo': 0,\n",
              " 'cuál': 0,\n",
              " 'cómo': 0,\n",
              " 'de': 0,\n",
              " 'declaro': 0,\n",
              " 'del': 0,\n",
              " 'en': 0,\n",
              " 'envío': 0,\n",
              " 'es': 1,\n",
              " 'finalidad': 0,\n",
              " 'función': 0,\n",
              " 'hago': 0,\n",
              " 'interfaz': 0,\n",
              " 'la': 0,\n",
              " 'lenguaje': 0,\n",
              " 'objeto': 0,\n",
              " 'programación': 0,\n",
              " 'qué': 1,\n",
              " 'tarea': 0,\n",
              " 'un': 0,\n",
              " 'una': 1,\n",
              " 'usuario': 0,\n",
              " 'variable': 1}"
            ]
          },
          "metadata": {
            "tags": []
          },
          "execution_count": 26
        }
      ]
    },
    {
      "cell_type": "markdown",
      "metadata": {
        "id": "VbTJCsfBTzFV",
        "colab_type": "text"
      },
      "source": [
        "# TF"
      ]
    },
    {
      "cell_type": "markdown",
      "metadata": {
        "id": "y5N4yjqXaTMg",
        "colab_type": "text"
      },
      "source": [
        "\\begin{equation*}\n",
        "TF(t) = \\frac{\\text{numero de apariciones del termino 't' en el documento}}{\\text{numero total de terminos en el documento}}\n",
        "\\end{equation*}"
      ]
    },
    {
      "cell_type": "code",
      "metadata": {
        "id": "U2OM3uhx_O16",
        "colab_type": "code",
        "outputId": "270abc13-be59-4c01-8f71-52038c75de02",
        "colab": {
          "base_uri": "https://localhost:8080/",
          "height": 232
        }
      },
      "source": [
        "def TF(documento, vocabulario):\n",
        "  vector = documento_a_vector(documento, vocabulario)\n",
        "  tf = {palabra: num_apariciones/len(documento.split()) for palabra, num_apariciones in vector.items()} # TF\n",
        "  return tf\n",
        "\n",
        "tf = TF('qué es una variable', vocabulario)\n",
        "print([*tf.values()])\n",
        "graficar(tf)"
      ],
      "execution_count": 0,
      "outputs": [
        {
          "output_type": "stream",
          "text": [
            "[0.25, 0.0, 0.0, 0.0, 0.0, 0.0, 0.0, 0.0, 0.0, 0.25, 0.0, 0.0, 0.0, 0.0, 0.0, 0.25, 0.0, 0.0, 0.0, 0.0, 0.0, 0.0, 0.0, 0.25, 0.0, 0.0]\n"
          ],
          "name": "stdout"
        },
        {
          "output_type": "display_data",
          "data": {
            "image/png": "[encoded data removed]",
            "text/plain": [
              "<Figure size 1800x216 with 1 Axes>"
            ]
          },
          "metadata": {
            "tags": []
          }
        }
      ]
    },
    {
      "cell_type": "markdown",
      "metadata": {
        "id": "ddh7vfsrUIC9",
        "colab_type": "text"
      },
      "source": [
        "# IDF\n",
        "\\begin{equation*}\n",
        "IDF(t) = \\log(\\frac{\\text{numero total de documentos}}{\\text{numero de documentos donde aparece el termino 't'}})\n",
        "\\end{equation*}"
      ]
    },
    {
      "cell_type": "code",
      "metadata": {
        "id": "BvE1pWqeABdX",
        "colab_type": "code",
        "outputId": "2d760c8f-b00d-4b9f-cace-9c633432b667",
        "colab": {
          "base_uri": "https://localhost:8080/",
          "height": 252
        }
      },
      "source": [
        "def IDF(documentos, vocabulario):\n",
        "  idf = {}\n",
        "  for palabra in vocabulario:\n",
        "    num_apariciones = 0\n",
        "    for documento in documentos:\n",
        "      if palabra in documento.split():\n",
        "        num_apariciones += 1\n",
        "    idf[palabra] = np.log10(len(documentos)/num_apariciones) # IDF\n",
        "  return idf\n",
        "\n",
        "idf = IDF(documentos, vocabulario)\n",
        "print([*idf.values()])\n",
        "graficar(idf)"
      ],
      "execution_count": 0,
      "outputs": [
        {
          "output_type": "stream",
          "text": [
            "[0.25527250510330607, 0.9542425094393249, 0.9542425094393249, 0.9542425094393249, 0.9542425094393249, 0.9542425094393249, 0.6532125137753437, 0.9542425094393249, 0.9542425094393249, 0.47712125471966244, 0.9542425094393249, 0.9542425094393249, 0.9542425094393249, 0.47712125471966244, 0.6532125137753437, 0.3521825181113625, 0.9542425094393249, 0.9542425094393249, 0.6532125137753437, 0.9542425094393249, 0.9542425094393249, 0.25527250510330607, 0.9542425094393249, 0.9542425094393249, 0.9542425094393249, 0.9542425094393249]\n"
          ],
          "name": "stdout"
        },
        {
          "output_type": "display_data",
          "data": {
            "image/png": "[encoded data removed]",
            "text/plain": [
              "<Figure size 1800x216 with 1 Axes>"
            ]
          },
          "metadata": {
            "tags": []
          }
        }
      ]
    },
    {
      "cell_type": "markdown",
      "metadata": {
        "id": "Q-I_BalmUK-s",
        "colab_type": "text"
      },
      "source": [
        "# TF*IDF"
      ]
    },
    {
      "cell_type": "code",
      "metadata": {
        "id": "NQlGOgmtEljJ",
        "colab_type": "code",
        "outputId": "96ce0c60-eabb-4395-a40f-a0960104766b",
        "colab": {
          "base_uri": "https://localhost:8080/",
          "height": 252
        }
      },
      "source": [
        "def TF_IDF(documento, documentos, vocabulario):\n",
        "  tf = TF(documento, vocabulario)\n",
        "  idf = IDF(documentos, vocabulario)\n",
        "  tf_idf = {palabra: tf[palabra]*idf[palabra] for palabra in vocabulario} # TF*IDF\n",
        "  return tf_idf\n",
        "\n",
        "tf_idf = TF_IDF('qué es una variable', documentos, vocabulario)\n",
        "print([*tf_idf.values()])\n",
        "graficar(tf_idf)"
      ],
      "execution_count": 0,
      "outputs": [
        {
          "output_type": "stream",
          "text": [
            "[0.06381812627582652, 0.0, 0.0, 0.0, 0.0, 0.0, 0.0, 0.0, 0.0, 0.11928031367991561, 0.0, 0.0, 0.0, 0.0, 0.0, 0.08804562952784062, 0.0, 0.0, 0.0, 0.0, 0.0, 0.0, 0.0, 0.23856062735983122, 0.0, 0.0]\n"
          ],
          "name": "stdout"
        },
        {
          "output_type": "display_data",
          "data": {
            "image/png": "[encoded data removed]",
            "text/plain": [
              "<Figure size 1800x216 with 1 Axes>"
            ]
          },
          "metadata": {
            "tags": []
          }
        }
      ]
    },
    {
      "cell_type": "markdown",
      "metadata": {
        "id": "bpHO7GR0UfnT",
        "colab_type": "text"
      },
      "source": [
        "# Similitud de Coseno\n",
        "\\begin{equation*}\n",
        "\\cos(θ) = \\frac{A⋅B}{\\|A\\|\\|B\\|}\n",
        "\\end{equation*}"
      ]
    },
    {
      "cell_type": "code",
      "metadata": {
        "id": "bW-WirxEK8LS",
        "colab_type": "code",
        "outputId": "e94aef8a-0572-4039-f91d-f10c8a7a45be",
        "colab": {
          "base_uri": "https://localhost:8080/",
          "height": 34
        }
      },
      "source": [
        "def similitud_de_coseno(documento_1, documento_2, documentos, vocabulario):\n",
        "  tf_idf_1 = TF_IDF(documento_1, documentos, vocabulario)\n",
        "  tf_idf_2 = TF_IDF(documento_2, documentos, vocabulario)\n",
        "  \n",
        "  vector_1 = np.array([*tf_idf_1.values()])\n",
        "  vector_2 = np.array([*tf_idf_2.values()])\n",
        "  cos = np.dot(vector_1, vector_2) / (np.linalg.norm(vector_1) * np.linalg.norm(vector_2)) # cos\n",
        "  return cos\n",
        "  \n",
        "cos = similitud_de_coseno('qué es una variable', 'cómo declaro una variable', documentos, vocabulario)\n",
        "cos"
      ],
      "execution_count": 0,
      "outputs": [
        {
          "output_type": "execute_result",
          "data": {
            "text/plain": [
              "0.6062454604277434"
            ]
          },
          "metadata": {
            "tags": []
          },
          "execution_count": 47
        }
      ]
    },
    {
      "cell_type": "code",
      "metadata": {
        "id": "l2HuLZLfmhxa",
        "colab_type": "code",
        "outputId": "50a00cac-fa6f-430e-a7a1-39afd9952a63",
        "colab": {
          "base_uri": "https://localhost:8080/",
          "height": 328
        }
      },
      "source": [
        "entrada_usuario = 'qué es una variable'\n",
        "\n",
        "celdas = [similitud_de_coseno(entrada_usuario, documento, documentos, vocabulario) for documento in documentos]\n",
        "tabla = pd.DataFrame(celdas, documentos, ['Similitud de Coseno'])\n",
        "tabla"
      ],
      "execution_count": 0,
      "outputs": [
        {
          "output_type": "execute_result",
          "data": {
            "text/html": [
              "<div>\n",
              "<style scoped>\n",
              "    .dataframe tbody tr th:only-of-type {\n",
              "        vertical-align: middle;\n",
              "    }\n",
              "\n",
              "    .dataframe tbody tr th {\n",
              "        vertical-align: top;\n",
              "    }\n",
              "\n",
              "    .dataframe thead th {\n",
              "        text-align: right;\n",
              "    }\n",
              "</style>\n",
              "<table border=\"1\" class=\"dataframe\">\n",
              "  <thead>\n",
              "    <tr style=\"text-align: right;\">\n",
              "      <th></th>\n",
              "      <th>Similitud de Coseno</th>\n",
              "    </tr>\n",
              "  </thead>\n",
              "  <tbody>\n",
              "    <tr>\n",
              "      <th>qué es un lenguaje de programación</th>\n",
              "      <td>0.199402</td>\n",
              "    </tr>\n",
              "    <tr>\n",
              "      <th>qué es una función</th>\n",
              "      <td>0.314024</td>\n",
              "    </tr>\n",
              "    <tr>\n",
              "      <th>cómo hago un bucle</th>\n",
              "      <td>0.000000</td>\n",
              "    </tr>\n",
              "    <tr>\n",
              "      <th>cómo creo una clase</th>\n",
              "      <td>0.046688</td>\n",
              "    </tr>\n",
              "    <tr>\n",
              "      <th>cómo creo una interfaz de usuario</th>\n",
              "      <td>0.033771</td>\n",
              "    </tr>\n",
              "    <tr>\n",
              "      <th>qué es un objeto en programación</th>\n",
              "      <td>0.181537</td>\n",
              "    </tr>\n",
              "    <tr>\n",
              "      <th>cuál es la finalidad del compilador</th>\n",
              "      <td>0.049780</td>\n",
              "    </tr>\n",
              "    <tr>\n",
              "      <th>cómo declaro una variable</th>\n",
              "      <td>0.606245</td>\n",
              "    </tr>\n",
              "    <tr>\n",
              "      <th>cómo envío una tarea</th>\n",
              "      <td>0.040488</td>\n",
              "    </tr>\n",
              "  </tbody>\n",
              "</table>\n",
              "</div>"
            ],
            "text/plain": [
              "                                     Similitud de Coseno\n",
              "qué es un lenguaje de programación              0.199402\n",
              "qué es una función                              0.314024\n",
              "cómo hago un bucle                              0.000000\n",
              "cómo creo una clase                             0.046688\n",
              "cómo creo una interfaz de usuario               0.033771\n",
              "qué es un objeto en programación                0.181537\n",
              "cuál es la finalidad del compilador             0.049780\n",
              "cómo declaro una variable                       0.606245\n",
              "cómo envío una tarea                            0.040488"
            ]
          },
          "metadata": {
            "tags": []
          },
          "execution_count": 48
        }
      ]
    }
  ]
}